{
  "nbformat": 4,
  "nbformat_minor": 0,
  "metadata": {
    "colab": {
      "provenance": [],
      "authorship_tag": "ABX9TyMMkQcmEmo5NoA19jP002ox",
      "include_colab_link": true
    },
    "kernelspec": {
      "name": "python3",
      "display_name": "Python 3"
    },
    "language_info": {
      "name": "python"
    }
  },
  "cells": [
    {
      "cell_type": "markdown",
      "metadata": {
        "id": "view-in-github",
        "colab_type": "text"
      },
      "source": [
        "<a href=\"https://colab.research.google.com/github/Linitoo/Taller-1_estadistica-/blob/main/app_py.ipynb\" target=\"_parent\"><img src=\"https://colab.research.google.com/assets/colab-badge.svg\" alt=\"Open In Colab\"/></a>"
      ]
    },
    {
      "cell_type": "code",
      "execution_count": 1,
      "metadata": {
        "colab": {
          "base_uri": "https://localhost:8080/"
        },
        "id": "zoFEVJEs1Ozt",
        "outputId": "d60c0ba0-4e2d-497a-a553-b8b83c2ffe87"
      },
      "outputs": [
        {
          "output_type": "stream",
          "name": "stdout",
          "text": [
            "Archivo app.py creado correctamente ✅\n"
          ]
        }
      ],
      "source": [
        "code = \"\"\"\n",
        "import streamlit as st\n",
        "import pandas as pd\n",
        "import seaborn as sns\n",
        "import matplotlib.pyplot as plt\n",
        "\n",
        "# ==========================\n",
        "# Título y descripción\n",
        "# ==========================\n",
        "st.title(\"🌱 Análisis Exploratorio - Crop Recommendation Dataset\")\n",
        "st.write(\\\"\\\"\\\"\n",
        "Esta aplicación interactiva permite explorar el **Crop Recommendation Dataset**.\n",
        "Podrás visualizar distribuciones, correlaciones y relaciones entre variables del suelo y clima.\n",
        "\\\"\\\"\\\")\n",
        "\n",
        "# ==========================\n",
        "# Cargar dataset\n",
        "# ==========================\n",
        "@st.cache_data\n",
        "def load_data():\n",
        "    return pd.read_csv(\"Crop_recommendation.csv\")\n",
        "\n",
        "df = load_data()\n",
        "\n",
        "st.subheader(\"Vista previa de los datos\")\n",
        "st.dataframe(df.head())\n",
        "\n",
        "# ==========================\n",
        "# Estadísticas básicas\n",
        "# ==========================\n",
        "if st.checkbox(\"Mostrar estadísticas descriptivas\"):\n",
        "    st.write(df.describe())\n",
        "\n",
        "# ==========================\n",
        "# Histograma interactivo\n",
        "# ==========================\n",
        "st.subheader(\"📊 Histograma\")\n",
        "columna = st.sidebar.selectbox(\"Selecciona una variable numérica\", df.select_dtypes(include=\"number\").columns)\n",
        "\n",
        "fig, ax = plt.subplots()\n",
        "sns.histplot(df[columna], kde=True, ax=ax)\n",
        "st.pyplot(fig)\n",
        "\n",
        "# ==========================\n",
        "# Scatter plot interactivo\n",
        "# ==========================\n",
        "st.subheader(\"🔍 Relación entre variables\")\n",
        "x_var = st.sidebar.selectbox(\"Variable en eje X\", df.select_dtypes(include=\"number\").columns)\n",
        "y_var = st.sidebar.selectbox(\"Variable en eje Y\", df.select_dtypes(include=\"number\").columns)\n",
        "\n",
        "fig, ax = plt.subplots()\n",
        "sns.scatterplot(x=df[x_var], y=df[y_var], ax=ax)\n",
        "st.pyplot(fig)\n",
        "\n",
        "# ==========================\n",
        "# Heatmap de correlación\n",
        "# ==========================\n",
        "st.subheader(\"🔥 Matriz de correlación\")\n",
        "corr = df.select_dtypes(include=\"number\").corr()\n",
        "fig, ax = plt.subplots(figsize=(10,6))\n",
        "sns.heatmap(corr, annot=True, cmap=\"coolwarm\", fmt=\".2f\", ax=ax)\n",
        "st.pyplot(fig)\n",
        "\n",
        "# ==========================\n",
        "# Agrupación por cultivo\n",
        "# ==========================\n",
        "st.subheader(\"🌾 Promedio de N, P, K por cultivo\")\n",
        "promedios = df.groupby(\"label\")[[\"N\",\"P\",\"K\"]].mean()\n",
        "st.dataframe(promedios)\n",
        "\"\"\"\n",
        "\n",
        "# Guardar el archivo como app.py\n",
        "with open(\"app.py\", \"w\") as f:\n",
        "    f.write(code)\n",
        "\n",
        "print(\"Archivo app.py creado correctamente ✅\")\n"
      ]
    }
  ]
}